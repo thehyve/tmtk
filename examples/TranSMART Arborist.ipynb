{
 "cells": [
  {
   "cell_type": "markdown",
   "metadata": {},
   "source": [
    "# TranSMART Arborist:  GUI editor for the concept tree."
   ]
  },
  {
   "cell_type": "markdown",
   "metadata": {},
   "source": [
    "First load the toolkit."
   ]
  },
  {
   "cell_type": "code",
   "execution_count": 4,
   "metadata": {
    "scrolled": true
   },
   "outputs": [],
   "source": [
    "import tmtk"
   ]
  },
  {
   "cell_type": "markdown",
   "metadata": {},
   "source": [
    "Create a study object by entering a \"study.params\" file."
   ]
  },
  {
   "cell_type": "code",
   "execution_count": 5,
   "metadata": {},
   "outputs": [],
   "source": [
    "study = tmtk.Study('../studies/valid_study/study.params')"
   ]
  },
  {
   "cell_type": "markdown",
   "metadata": {},
   "source": [
    "To verify the study object is compatible with transmart-batch for loading you can run the validator"
   ]
  },
  {
   "cell_type": "code",
   "execution_count": 6,
   "metadata": {},
   "outputs": [
    {
     "data": {
      "text/plain": [
       "True"
      ]
     },
     "execution_count": 6,
     "metadata": {},
     "output_type": "execute_result"
    }
   ],
   "source": [
    "study.validate_all()"
   ]
  },
  {
   "cell_type": "markdown",
   "metadata": {},
   "source": [
    "We will ignore this issue for now as this will be fixed automatically when calling the Arborist GUI.\n",
    "\n",
    "The GUI allows a user to interactively edit all aspects of TranSMART's concept tree, this include:\n",
    "\n",
    "  - Concept Paths from the clinical column mapping.\n",
    "  - Wordmapping from clincal data files.\n",
    "  - High dimensional paths from subject sample mapping files.\n",
    "  - Meta data tags"
   ]
  },
  {
   "cell_type": "code",
   "execution_count": 7,
   "metadata": {
    "scrolled": false
   },
   "outputs": [
    {
     "name": "stdout",
     "output_type": "stream",
     "text": [
      "Cleaning up before closing...\n"
     ]
    },
    {
     "data": {
      "text/html": [
       "<font color=\"green\" style=\"font-family: monospace;\">&#x2705; [OKAY] Successfully closed The Arborist. The updated column mapping file has been returned as a dataframe.</font>"
      ],
      "text/plain": [
       "\u001b[92m[OKAY] Successfully closed The Arborist. The updated column mapping file has been returned as a dataframe.\u001b[0m"
      ]
     },
     "metadata": {},
     "output_type": "display_data"
    },
    {
     "data": {
      "text/html": [
       "<font color=\"orange\" style=\"font-family: monospace;\">&#9888; [WARNING] Don't forget to save this dataframe to disk if you want to store it.</font>"
      ],
      "text/plain": [
       "\u001b[93m[WARNING] Don't forget to save this dataframe to disk if you want to store it.\u001b[0m"
      ]
     },
     "metadata": {},
     "output_type": "display_data"
    },
    {
     "data": {
      "text/html": [
       "<font color=\"green\" style=\"font-family: monospace;\">&#x2705; [OKAY] Study metadata tags found.</font>"
      ],
      "text/plain": [
       "\u001b[92m[OKAY] Study metadata tags found.\u001b[0m"
      ]
     },
     "metadata": {},
     "output_type": "display_data"
    },
    {
     "data": {
      "text/html": [
       "<font color=\"black\" style=\"font-family: monospace;\"> [INFO] No changes found in any HighDim paths.</font>"
      ],
      "text/plain": [
       "\u001b[0m[INFO] No changes found in any HighDim paths.\u001b[0m"
      ]
     },
     "metadata": {},
     "output_type": "display_data"
    }
   ],
   "source": [
    "study.call_boris()"
   ]
  },
  {
   "cell_type": "markdown",
   "metadata": {},
   "source": [
    "Once returned from The Arborist to Jupyter environment we can write the updated files to disk. You can then run transmart-batch on that study to load it into your tranSMART instance."
   ]
  },
  {
   "cell_type": "code",
   "execution_count": 9,
   "metadata": {},
   "outputs": [
    {
     "data": {
      "text/html": [
       "<font color=\"black\" style=\"font-family: monospace;\"> [INFO] Writing file to /Users/jb/studies/updated_study/cnv/acgh_subject_sample_mapping.tsv</font>"
      ],
      "text/plain": [
       "\u001b[0m[INFO] Writing file to /Users/jb/studies/updated_study/cnv/acgh_subject_sample_mapping.tsv\u001b[0m"
      ]
     },
     "metadata": {},
     "output_type": "display_data"
    },
    {
     "data": {
      "text/html": [
       "<font color=\"black\" style=\"font-family: monospace;\"> [INFO] Writing file to /Users/jb/studies/updated_study/cnv/acgh_data.tsv</font>"
      ],
      "text/plain": [
       "\u001b[0m[INFO] Writing file to /Users/jb/studies/updated_study/cnv/acgh_data.tsv\u001b[0m"
      ]
     },
     "metadata": {},
     "output_type": "display_data"
    },
    {
     "data": {
      "text/html": [
       "<font color=\"black\" style=\"font-family: monospace;\"> [INFO] Writing file to /Users/jb/studies/updated_study/clinical/ontology_mapping_file.txt</font>"
      ],
      "text/plain": [
       "\u001b[0m[INFO] Writing file to /Users/jb/studies/updated_study/clinical/ontology_mapping_file.txt\u001b[0m"
      ]
     },
     "metadata": {},
     "output_type": "display_data"
    },
    {
     "data": {
      "text/html": [
       "<font color=\"black\" style=\"font-family: monospace;\"> [INFO] Writing file to /Users/jb/studies/updated_study/clinical/Cell-line_wordmap.txt</font>"
      ],
      "text/plain": [
       "\u001b[0m[INFO] Writing file to /Users/jb/studies/updated_study/clinical/Cell-line_wordmap.txt\u001b[0m"
      ]
     },
     "metadata": {},
     "output_type": "display_data"
    },
    {
     "data": {
      "text/html": [
       "<font color=\"black\" style=\"font-family: monospace;\"> [INFO] Writing file to /Users/jb/studies/updated_study/rnaseq/rnaseq_subject_sample_mapping.tsv</font>"
      ],
      "text/plain": [
       "\u001b[0m[INFO] Writing file to /Users/jb/studies/updated_study/rnaseq/rnaseq_subject_sample_mapping.tsv\u001b[0m"
      ]
     },
     "metadata": {},
     "output_type": "display_data"
    },
    {
     "data": {
      "text/html": [
       "<font color=\"black\" style=\"font-family: monospace;\"> [INFO] Writing file to /Users/jb/studies/updated_study/tags/tags.txt</font>"
      ],
      "text/plain": [
       "\u001b[0m[INFO] Writing file to /Users/jb/studies/updated_study/tags/tags.txt\u001b[0m"
      ]
     },
     "metadata": {},
     "output_type": "display_data"
    },
    {
     "data": {
      "text/html": [
       "<font color=\"black\" style=\"font-family: monospace;\"> [INFO] Writing file to /Users/jb/studies/updated_study/rnaseq/rnaseq_data.tsv</font>"
      ],
      "text/plain": [
       "\u001b[0m[INFO] Writing file to /Users/jb/studies/updated_study/rnaseq/rnaseq_data.tsv\u001b[0m"
      ]
     },
     "metadata": {},
     "output_type": "display_data"
    },
    {
     "data": {
      "text/html": [
       "<font color=\"black\" style=\"font-family: monospace;\"> [INFO] Writing file to /Users/jb/studies/updated_study/proteomics/proteomics_subject_sample_mapping.txt</font>"
      ],
      "text/plain": [
       "\u001b[0m[INFO] Writing file to /Users/jb/studies/updated_study/proteomics/proteomics_subject_sample_mapping.txt\u001b[0m"
      ]
     },
     "metadata": {},
     "output_type": "display_data"
    },
    {
     "data": {
      "text/html": [
       "<font color=\"black\" style=\"font-family: monospace;\"> [INFO] Writing file to /Users/jb/studies/updated_study/expression/dataset1/subject_sample_mapping.tsv</font>"
      ],
      "text/plain": [
       "\u001b[0m[INFO] Writing file to /Users/jb/studies/updated_study/expression/dataset1/subject_sample_mapping.tsv\u001b[0m"
      ]
     },
     "metadata": {},
     "output_type": "display_data"
    },
    {
     "data": {
      "text/html": [
       "<font color=\"black\" style=\"font-family: monospace;\"> [INFO] Writing file to /Users/jb/studies/updated_study/expression/dataset2/subject_sample_mapping.tsv</font>"
      ],
      "text/plain": [
       "\u001b[0m[INFO] Writing file to /Users/jb/studies/updated_study/expression/dataset2/subject_sample_mapping.tsv\u001b[0m"
      ]
     },
     "metadata": {},
     "output_type": "display_data"
    },
    {
     "data": {
      "text/html": [
       "<font color=\"black\" style=\"font-family: monospace;\"> [INFO] Writing file to /Users/jb/studies/updated_study/expression/dataset1/data.tsv</font>"
      ],
      "text/plain": [
       "\u001b[0m[INFO] Writing file to /Users/jb/studies/updated_study/expression/dataset1/data.tsv\u001b[0m"
      ]
     },
     "metadata": {},
     "output_type": "display_data"
    },
    {
     "data": {
      "text/html": [
       "<font color=\"black\" style=\"font-family: monospace;\"> [INFO] Writing file to /Users/jb/studies/updated_study/expression/dataset2/data.tsv</font>"
      ],
      "text/plain": [
       "\u001b[0m[INFO] Writing file to /Users/jb/studies/updated_study/expression/dataset2/data.tsv\u001b[0m"
      ]
     },
     "metadata": {},
     "output_type": "display_data"
    },
    {
     "data": {
      "text/html": [
       "<font color=\"black\" style=\"font-family: monospace;\"> [INFO] Writing file to /Users/jb/studies/updated_study/clinical/Cell-line_columns.txt</font>"
      ],
      "text/plain": [
       "\u001b[0m[INFO] Writing file to /Users/jb/studies/updated_study/clinical/Cell-line_columns.txt\u001b[0m"
      ]
     },
     "metadata": {},
     "output_type": "display_data"
    },
    {
     "data": {
      "text/html": [
       "<font color=\"black\" style=\"font-family: monospace;\"> [INFO] Writing file to /Users/jb/studies/updated_study/clinical/Cell-line_clinical.txt</font>"
      ],
      "text/plain": [
       "\u001b[0m[INFO] Writing file to /Users/jb/studies/updated_study/clinical/Cell-line_clinical.txt\u001b[0m"
      ]
     },
     "metadata": {},
     "output_type": "display_data"
    },
    {
     "data": {
      "text/html": [
       "<font color=\"black\" style=\"font-family: monospace;\"> [INFO] Writing file to /Users/jb/studies/updated_study/clinical/modifiers_file.txt</font>"
      ],
      "text/plain": [
       "\u001b[0m[INFO] Writing file to /Users/jb/studies/updated_study/clinical/modifiers_file.txt\u001b[0m"
      ]
     },
     "metadata": {},
     "output_type": "display_data"
    },
    {
     "data": {
      "text/html": [
       "<font color=\"black\" style=\"font-family: monospace;\"> [INFO] Writing file to /Users/jb/studies/updated_study/cnv/acgh_annotation/chromosomal_regions.tsv</font>"
      ],
      "text/plain": [
       "\u001b[0m[INFO] Writing file to /Users/jb/studies/updated_study/cnv/acgh_annotation/chromosomal_regions.tsv\u001b[0m"
      ]
     },
     "metadata": {},
     "output_type": "display_data"
    },
    {
     "data": {
      "text/html": [
       "<font color=\"black\" style=\"font-family: monospace;\"> [INFO] Writing file to /Users/jb/studies/updated_study/clinical/trial_visits.tsv</font>"
      ],
      "text/plain": [
       "\u001b[0m[INFO] Writing file to /Users/jb/studies/updated_study/clinical/trial_visits.tsv\u001b[0m"
      ]
     },
     "metadata": {},
     "output_type": "display_data"
    },
    {
     "data": {
      "text/html": [
       "<font color=\"black\" style=\"font-family: monospace;\"> [INFO] Writing file to /Users/jb/studies/updated_study/proteomics/proteomics_data.txt</font>"
      ],
      "text/plain": [
       "\u001b[0m[INFO] Writing file to /Users/jb/studies/updated_study/proteomics/proteomics_data.txt\u001b[0m"
      ]
     },
     "metadata": {},
     "output_type": "display_data"
    },
    {
     "data": {
      "text/html": [
       "<font color=\"black\" style=\"font-family: monospace;\"> [INFO] Writing file to /Users/jb/studies/updated_study/proteomics/proteomics_annotation/proteomics_annotation.tsv</font>"
      ],
      "text/plain": [
       "\u001b[0m[INFO] Writing file to /Users/jb/studies/updated_study/proteomics/proteomics_annotation/proteomics_annotation.tsv\u001b[0m"
      ]
     },
     "metadata": {},
     "output_type": "display_data"
    },
    {
     "data": {
      "text/html": [
       "<font color=\"black\" style=\"font-family: monospace;\"> [INFO] Writing file to /Users/jb/studies/updated_study/rnaseq/rnaseq_annotation/chromosomal_regions.tsv</font>"
      ],
      "text/plain": [
       "\u001b[0m[INFO] Writing file to /Users/jb/studies/updated_study/rnaseq/rnaseq_annotation/chromosomal_regions.tsv\u001b[0m"
      ]
     },
     "metadata": {},
     "output_type": "display_data"
    },
    {
     "data": {
      "text/html": [
       "<font color=\"black\" style=\"font-family: monospace;\"> [INFO] Writing file to /Users/jb/studies/updated_study/GPL570_bogus/annotation/GPL570_simplified.tsv</font>"
      ],
      "text/plain": [
       "\u001b[0m[INFO] Writing file to /Users/jb/studies/updated_study/GPL570_bogus/annotation/GPL570_simplified.tsv\u001b[0m"
      ]
     },
     "metadata": {},
     "output_type": "display_data"
    },
    {
     "data": {
      "text/html": [
       "<font color=\"black\" style=\"font-family: monospace;\"> [INFO] Writing file to /Users/jb/studies/updated_study/rnaseq/rnaseq.params</font>"
      ],
      "text/plain": [
       "\u001b[0m[INFO] Writing file to /Users/jb/studies/updated_study/rnaseq/rnaseq.params\u001b[0m"
      ]
     },
     "metadata": {},
     "output_type": "display_data"
    },
    {
     "data": {
      "text/html": [
       "<font color=\"black\" style=\"font-family: monospace;\"> [INFO] Writing file to /Users/jb/studies/updated_study/expression/dataset2/expression.params</font>"
      ],
      "text/plain": [
       "\u001b[0m[INFO] Writing file to /Users/jb/studies/updated_study/expression/dataset2/expression.params\u001b[0m"
      ]
     },
     "metadata": {},
     "output_type": "display_data"
    },
    {
     "data": {
      "text/html": [
       "<font color=\"black\" style=\"font-family: monospace;\"> [INFO] Writing file to /Users/jb/studies/updated_study/study.params</font>"
      ],
      "text/plain": [
       "\u001b[0m[INFO] Writing file to /Users/jb/studies/updated_study/study.params\u001b[0m"
      ]
     },
     "metadata": {},
     "output_type": "display_data"
    },
    {
     "data": {
      "text/html": [
       "<font color=\"black\" style=\"font-family: monospace;\"> [INFO] Writing file to /Users/jb/studies/updated_study/proteomics/proteomics.params</font>"
      ],
      "text/plain": [
       "\u001b[0m[INFO] Writing file to /Users/jb/studies/updated_study/proteomics/proteomics.params\u001b[0m"
      ]
     },
     "metadata": {},
     "output_type": "display_data"
    },
    {
     "data": {
      "text/html": [
       "<font color=\"black\" style=\"font-family: monospace;\"> [INFO] Writing file to /Users/jb/studies/updated_study/GPL570_bogus/annotation/mrna_annotation.params</font>"
      ],
      "text/plain": [
       "\u001b[0m[INFO] Writing file to /Users/jb/studies/updated_study/GPL570_bogus/annotation/mrna_annotation.params\u001b[0m"
      ]
     },
     "metadata": {},
     "output_type": "display_data"
    },
    {
     "data": {
      "text/html": [
       "<font color=\"black\" style=\"font-family: monospace;\"> [INFO] Writing file to /Users/jb/studies/updated_study/rnaseq/rnaseq_annotation/rnaseq_annotation.params</font>"
      ],
      "text/plain": [
       "\u001b[0m[INFO] Writing file to /Users/jb/studies/updated_study/rnaseq/rnaseq_annotation/rnaseq_annotation.params\u001b[0m"
      ]
     },
     "metadata": {},
     "output_type": "display_data"
    },
    {
     "data": {
      "text/html": [
       "<font color=\"black\" style=\"font-family: monospace;\"> [INFO] Writing file to /Users/jb/studies/updated_study/cnv/acgh_annotation/cnv_annotation.params</font>"
      ],
      "text/plain": [
       "\u001b[0m[INFO] Writing file to /Users/jb/studies/updated_study/cnv/acgh_annotation/cnv_annotation.params\u001b[0m"
      ]
     },
     "metadata": {},
     "output_type": "display_data"
    },
    {
     "data": {
      "text/html": [
       "<font color=\"black\" style=\"font-family: monospace;\"> [INFO] Writing file to /Users/jb/studies/updated_study/tags/tags.params</font>"
      ],
      "text/plain": [
       "\u001b[0m[INFO] Writing file to /Users/jb/studies/updated_study/tags/tags.params\u001b[0m"
      ]
     },
     "metadata": {},
     "output_type": "display_data"
    },
    {
     "data": {
      "text/html": [
       "<font color=\"black\" style=\"font-family: monospace;\"> [INFO] Writing file to /Users/jb/studies/updated_study/clinical/clinical.params</font>"
      ],
      "text/plain": [
       "\u001b[0m[INFO] Writing file to /Users/jb/studies/updated_study/clinical/clinical.params\u001b[0m"
      ]
     },
     "metadata": {},
     "output_type": "display_data"
    },
    {
     "data": {
      "text/html": [
       "<font color=\"black\" style=\"font-family: monospace;\"> [INFO] Writing file to /Users/jb/studies/updated_study/cnv/cnv.params</font>"
      ],
      "text/plain": [
       "\u001b[0m[INFO] Writing file to /Users/jb/studies/updated_study/cnv/cnv.params\u001b[0m"
      ]
     },
     "metadata": {},
     "output_type": "display_data"
    },
    {
     "data": {
      "text/html": [
       "<font color=\"black\" style=\"font-family: monospace;\"> [INFO] Writing file to /Users/jb/studies/updated_study/proteomics/proteomics_annotation/proteomics_annotation.params</font>"
      ],
      "text/plain": [
       "\u001b[0m[INFO] Writing file to /Users/jb/studies/updated_study/proteomics/proteomics_annotation/proteomics_annotation.params\u001b[0m"
      ]
     },
     "metadata": {},
     "output_type": "display_data"
    },
    {
     "data": {
      "text/html": [
       "<font color=\"black\" style=\"font-family: monospace;\"> [INFO] Writing file to /Users/jb/studies/updated_study/expression/dataset1/expression.params</font>"
      ],
      "text/plain": [
       "\u001b[0m[INFO] Writing file to /Users/jb/studies/updated_study/expression/dataset1/expression.params\u001b[0m"
      ]
     },
     "metadata": {},
     "output_type": "display_data"
    },
    {
     "data": {
      "text/plain": [
       "StudyObject (/Users/jb/studies/updated_study)"
      ]
     },
     "execution_count": 9,
     "metadata": {},
     "output_type": "execute_result"
    }
   ],
   "source": [
    "study.write_to('~/studies/updated_study')"
   ]
  },
  {
   "cell_type": "markdown",
   "metadata": {},
   "source": [
    "# Collaboration with non technical users.\n",
    "\n",
    "\n",
    "Though using Jupyter Notebooks is great for technical users, less technical domain experts might quickly feel discouraged. To allow for collaboration with these users we will upload this concept tree to a running Boris as a Service webserver. This will allow others to make refinements to the concept tree. "
   ]
  },
  {
   "cell_type": "code",
   "execution_count": null,
   "metadata": {},
   "outputs": [],
   "source": [
    "study.publish_to_baas('arborist-test-trait.thehyve.net')"
   ]
  },
  {
   "cell_type": "markdown",
   "metadata": {},
   "source": [
    "Once the study is updated in BaaS, we can update the local files by copying the url for the latest tree into this command."
   ]
  },
  {
   "cell_type": "code",
   "execution_count": null,
   "metadata": {},
   "outputs": [],
   "source": [
    "study.update_from_baas('arborist-test-trait.thehyve.net/trees/valid-study/3/~edit')"
   ]
  },
  {
   "cell_type": "markdown",
   "metadata": {},
   "source": [
    "import os"
   ]
  },
  {
   "cell_type": "code",
   "execution_count": null,
   "metadata": {},
   "outputs": [],
   "source": []
  },
  {
   "cell_type": "code",
   "execution_count": null,
   "metadata": {},
   "outputs": [],
   "source": []
  },
  {
   "cell_type": "code",
   "execution_count": null,
   "metadata": {},
   "outputs": [],
   "source": []
  }
 ],
 "metadata": {
  "kernelspec": {
   "display_name": "Python 3",
   "language": "python",
   "name": "python3"
  },
  "language_info": {
   "codemirror_mode": {
    "name": "ipython",
    "version": 3
   },
   "file_extension": ".py",
   "mimetype": "text/x-python",
   "name": "python",
   "nbconvert_exporter": "python",
   "pygments_lexer": "ipython3",
   "version": "3.5.1"
  }
 },
 "nbformat": 4,
 "nbformat_minor": 2
}
