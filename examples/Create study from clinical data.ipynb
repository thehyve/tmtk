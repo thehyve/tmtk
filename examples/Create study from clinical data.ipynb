{
 "cells": [
  {
   "cell_type": "markdown",
   "metadata": {
    "scrolled": true
   },
   "source": [
    "# Create study from clinical data."
   ]
  },
  {
   "cell_type": "markdown",
   "metadata": {},
   "source": [
    "tmtk has a wizard that can be used to quickly go from clinical data files to a study object.  The main goal of this functionality is to reduce the barrier of setting up all transmart-batch specific files (i.e. parameter files, column mapping  and word mapping files).\n",
    "\n",
    "The way to use it is to call `tmtk.toolbox.wizard.create_study(path)`, where path points a directory with clinical data files. \n",
    "\n",
    "Note: clinical datafiles have to be in a format that is accepted by transmart-batch. Where every column is a concept and every row a patient."
   ]
  },
  {
   "cell_type": "markdown",
   "metadata": {},
   "source": [
    "Here we will create a study from these two files:"
   ]
  },
  {
   "cell_type": "code",
   "execution_count": null,
   "metadata": {},
   "outputs": [],
   "source": [
    "import os\n",
    "files_dir = '../studies/wizard/'\n",
    "os.listdir(files_dir)"
   ]
  },
  {
   "cell_type": "code",
   "execution_count": null,
   "metadata": {},
   "outputs": [],
   "source": [
    "# Load the toolkit\n",
    "import tmtk"
   ]
  },
  {
   "cell_type": "code",
   "execution_count": null,
   "metadata": {},
   "outputs": [],
   "source": [
    "# Create a study object by running the wizard\n",
    "study = tmtk.toolbox.wizard.create_study('../studies/wizard/')"
   ]
  },
  {
   "cell_type": "code",
   "execution_count": null,
   "metadata": {},
   "outputs": [],
   "source": [
    "study.call_boris()"
   ]
  }
 ],
 "metadata": {
  "kernelspec": {
   "display_name": "Python 3",
   "language": "python",
   "name": "python3"
  },
  "language_info": {
   "codemirror_mode": {
    "name": "ipython",
    "version": 3
   },
   "file_extension": ".py",
   "mimetype": "text/x-python",
   "name": "python",
   "nbconvert_exporter": "python",
   "pygments_lexer": "ipython3",
   "version": "3.6.4"
  }
 },
 "nbformat": 4,
 "nbformat_minor": 1
}
