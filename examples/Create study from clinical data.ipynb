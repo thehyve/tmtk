{
 "cells": [
  {
   "cell_type": "markdown",
   "metadata": {
    "scrolled": true
   },
   "source": [
    "# Create study from clinical data."
   ]
  },
  {
   "cell_type": "markdown",
   "metadata": {},
   "source": [
    "tmtk has a wizard that can be used to quickly go from clinical data files to a study object.  The main goal of this functionality is to reduce the barrier of setting up all transmart-batch specific files (i.e. parameter files, column mapping  and word mapping files).\n",
    "\n",
    "The way to use it is to call `tmtk.toolbox.wizard.create_study(path)`, where path points a directory with clinical data files. \n",
    "\n",
    "Note: clinical datafiles have to be in a format that is accepted by transmart-batch. Where every column is a concept and every row a patient."
   ]
  },
  {
   "cell_type": "markdown",
   "metadata": {},
   "source": [
    "Here we will create a study from these two files:"
   ]
  },
  {
   "cell_type": "code",
   "execution_count": 1,
   "metadata": {},
   "outputs": [
    {
     "data": {
      "text/plain": [
       "['Cell-line_clinical.txt', 'Cell-line_NHTMP.txt']"
      ]
     },
     "execution_count": 1,
     "metadata": {},
     "output_type": "execute_result"
    }
   ],
   "source": [
    "import os\n",
    "files_dir = '../studies/wizard/'\n",
    "os.listdir(files_dir)"
   ]
  },
  {
   "cell_type": "code",
   "execution_count": 2,
   "metadata": {},
   "outputs": [],
   "source": [
    "# Load the toolkit\n",
    "import tmtk"
   ]
  },
  {
   "cell_type": "code",
   "execution_count": 3,
   "metadata": {},
   "outputs": [
    {
     "data": {
      "text/html": [
       "<font color=\"green\" style=\"font-family: monospace;\">&#x2705; [OKAY] Creating dataframe for: /var/folders/lt/njgf1g9j3mz5h0nj65jw8pqm0000gn/T/tmtk-51qmtvmi/clinical/column_mapping_file.txt</font>"
      ],
      "text/plain": [
       "\u001b[92m[OKAY] Creating dataframe for: /var/folders/lt/njgf1g9j3mz5h0nj65jw8pqm0000gn/T/tmtk-51qmtvmi/clinical/column_mapping_file.txt\u001b[0m"
      ]
     },
     "metadata": {},
     "output_type": "display_data"
    },
    {
     "data": {
      "text/html": [
       "<font color=\"green\" style=\"font-family: monospace;\">&#x2705; [OKAY] Creating dataframe for: /var/folders/lt/njgf1g9j3mz5h0nj65jw8pqm0000gn/T/tmtk-51qmtvmi/clinical/word_mapping_file.txt</font>"
      ],
      "text/plain": [
       "\u001b[92m[OKAY] Creating dataframe for: /var/folders/lt/njgf1g9j3mz5h0nj65jw8pqm0000gn/T/tmtk-51qmtvmi/clinical/word_mapping_file.txt\u001b[0m"
      ]
     },
     "metadata": {},
     "output_type": "display_data"
    },
    {
     "name": "stdout",
     "output_type": "stream",
     "text": [
      "#####  Please select your clinical datafiles  #####\n",
      "-    0. /Users/jb/thehyve/tmtk/studies/wizard/Cell-line_clinical.txt\n",
      "-    1. /Users/jb/thehyve/tmtk/studies/wizard/Cell-line_NHTMP.txt\n",
      "Pick number:  0\n",
      "Selected files: ['Cell-line_clinical.txt']\n",
      "Pick number:  1\n",
      "Selected files: ['Cell-line_NHTMP.txt', 'Cell-line_clinical.txt']\n",
      "Pick number:  \n"
     ]
    },
    {
     "data": {
      "text/html": [
       "<font color=\"green\" style=\"font-family: monospace;\">&#x2705; [OKAY] Adding 'Cell-line_clinical.txt' as clinical datafile to study.</font>"
      ],
      "text/plain": [
       "\u001b[92m[OKAY] Adding 'Cell-line_clinical.txt' as clinical datafile to study.\u001b[0m"
      ]
     },
     "metadata": {},
     "output_type": "display_data"
    },
    {
     "data": {
      "text/html": [
       "<font color=\"green\" style=\"font-family: monospace;\">&#x2705; [OKAY] Adding 'Cell-line_NHTMP.txt' as clinical datafile to study.</font>"
      ],
      "text/plain": [
       "\u001b[92m[OKAY] Adding 'Cell-line_NHTMP.txt' as clinical datafile to study.\u001b[0m"
      ]
     },
     "metadata": {},
     "output_type": "display_data"
    }
   ],
   "source": [
    "# Create a study object by running the wizard\n",
    "study = tmtk.toolbox.wizard.create_study('../studies/wizard/')"
   ]
  },
  {
   "cell_type": "code",
   "execution_count": 4,
   "metadata": {},
   "outputs": [
    {
     "name": "stdout",
     "output_type": "stream",
     "text": [
      "Cleaning up before closing...\n"
     ]
    },
    {
     "data": {
      "text/html": [
       "<font color=\"green\" style=\"font-family: monospace;\">&#x2705; [OKAY] Successfully closed The Arborist. The updated column mapping file has been returned as a dataframe.</font>"
      ],
      "text/plain": [
       "\u001b[92m[OKAY] Successfully closed The Arborist. The updated column mapping file has been returned as a dataframe.\u001b[0m"
      ]
     },
     "metadata": {},
     "output_type": "display_data"
    },
    {
     "data": {
      "text/html": [
       "<font color=\"orange\" style=\"font-family: monospace;\">&#9888; [WARNING] Don't forget to save this dataframe to disk if you want to store it.</font>"
      ],
      "text/plain": [
       "\u001b[93m[WARNING] Don't forget to save this dataframe to disk if you want to store it.\u001b[0m"
      ]
     },
     "metadata": {},
     "output_type": "display_data"
    }
   ],
   "source": [
    "study.call_boris()"
   ]
  },
  {
   "cell_type": "code",
   "execution_count": null,
   "metadata": {},
   "outputs": [],
   "source": []
  }
 ],
 "metadata": {
  "kernelspec": {
   "display_name": "Python 3",
   "language": "python",
   "name": "python3"
  },
  "language_info": {
   "codemirror_mode": {
    "name": "ipython",
    "version": 3
   },
   "file_extension": ".py",
   "mimetype": "text/x-python",
   "name": "python",
   "nbconvert_exporter": "python",
   "pygments_lexer": "ipython3",
   "version": "3.5.1"
  }
 },
 "nbformat": 4,
 "nbformat_minor": 1
}
